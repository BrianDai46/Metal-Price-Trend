{
 "cells": [
  {
   "cell_type": "code",
   "execution_count": 3,
   "metadata": {},
   "outputs": [],
   "source": [
    "import pandas as pd\n",
    "import os"
   ]
  },
  {
   "cell_type": "code",
   "execution_count": 26,
   "metadata": {},
   "outputs": [],
   "source": [
    "AD = pd.read_csv('F:\\\\Python\\\\5900_capstone\\\\Metal-Price-Trend\\\\data\\\\raw\\\\annual_data.csv')\n",
    "AD = AD.drop([\"SeriesID\", 'Unnamed: 53'], axis=1)\n",
    "AD_melted = AD.melt(id_vars=['Data Series', 'Category', 'Source', 'Unit'],\n",
    "                    value_vars=[str(year) for year in range(1975, 2023)],\n",
    "                    var_name='Year',\n",
    "                    value_name='Value')\n",
    "AD_melted.to_csv('F:\\\\Python\\\\5900_capstone\\\\Metal-Price-Trend\\\\data\\\\annual_data.csv', index=False)"
   ]
  },
  {
   "cell_type": "code",
   "execution_count": null,
   "metadata": {},
   "outputs": [],
   "source": [
    "PA = pd.read_csv('F:\\\\Python\\\\5900_capstone\\\\Metal-Price-Trend\\\\data\\\\raw\\\\pair_analysis.csv')\n",
    "PA = PA.drop([\"SeriesID\"], axis=1)\n",
    "PA_melted = PA.melt(id_vars=['CatID', 'UOMID', 'Data Series', 'Category', 'Source',\n",
    "       'Unit'],\n",
    "                    value_vars=list(PA.columns)[6:],\n",
    "                    var_name='Month',\n",
    "                    value_name='Value')\n",
    "PA_melted.to_csv('F:\\\\Python\\\\5900_capstone\\\\Metal-Price-Trend\\\\data\\\\pair_analysis.csv', index=False)"
   ]
  },
  {
   "cell_type": "code",
   "execution_count": 7,
   "metadata": {},
   "outputs": [],
   "source": [
    "def EI_transfer(file_name):\n",
    "    df = pd.read_csv('F:\\\\Python\\\\5900_capstone\\\\Metal-Price-Trend\\\\data\\\\raw\\\\' + file_name)\n",
    "    df_melted = df.melt(id_vars=list(df.columns)[:4],\n",
    "                    value_vars=list(df.columns)[4:],\n",
    "                    var_name='Time Period',\n",
    "                    value_name='Value')\n",
    "    df_melted.to_csv('F:\\\\Python\\\\5900_capstone\\\\Metal-Price-Trend\\\\data\\\\' + file_name, index=False)"
   ]
  },
  {
   "cell_type": "code",
   "execution_count": 8,
   "metadata": {},
   "outputs": [],
   "source": [
    "import os\n",
    "import pandas as pd\n",
    "directory = 'F:\\\\Python\\\\5900_capstone\\\\Metal-Price-Trend\\\\data\\\\raw\\\\'\n",
    "for filename in os.listdir(directory):\n",
    "    if filename.startswith(\"EI_\") and filename.endswith(\".csv\"):\n",
    "        EI_transfer(filename)"
   ]
  }
 ],
 "metadata": {
  "kernelspec": {
   "display_name": "Python 3",
   "language": "python",
   "name": "python3"
  },
  "language_info": {
   "codemirror_mode": {
    "name": "ipython",
    "version": 3
   },
   "file_extension": ".py",
   "mimetype": "text/x-python",
   "name": "python",
   "nbconvert_exporter": "python",
   "pygments_lexer": "ipython3",
   "version": "3.11.4"
  },
  "orig_nbformat": 4
 },
 "nbformat": 4,
 "nbformat_minor": 2
}
